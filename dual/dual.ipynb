{
  "nbformat": 4,
  "nbformat_minor": 0,
  "metadata": {
    "colab": {
      "name": "dual.ipynb",
      "provenance": [],
      "collapsed_sections": []
    },
    "kernelspec": {
      "name": "python3",
      "display_name": "Python 3"
    },
    "language_info": {
      "name": "python"
    }
  },
  "cells": [
    {
      "cell_type": "markdown",
      "metadata": {
        "deletable": false,
        "editable": false,
        "nbgrader": {
          "cell_type": "markdown",
          "checksum": "3f07019085ede2ec1603dcebb29f3e1f",
          "grade": false,
          "grade_id": "cell-b21c07062b2922c5",
          "locked": true,
          "schema_version": 3,
          "solution": false,
          "task": false
        },
        "id": "V_fyL603BwMv"
      },
      "source": [
        "## Dual numbers and automatic differentiation\n",
        "\n",
        "Implemented the forward mode of automatic differentiation with the help of dual numbers. We first implement a class **Dual** with the constructor **__init__**, the functions **__add__**, **__radd__**, **__sub__**, **__rsub__**, **__mul__**, **__rmul__**, **__truediv__**, **__rtruediv__**, **__neg__** and **__pow__**, and the property **T**. As the names suggest, those  functions and properties implement basic arithmetic operations for Dual numbers:\n",
        "\n",
        "__init__ : constructor that initialises an object of class **Dual**. Each object represents a dual number $a + \\varepsilon \\, b$ with real component $a$ (*self.real*) and dual component $b$ (*self.dual*).\n",
        "\n",
        "__add__ : adds an argument _argument_ to the dual number, i.e. $a + \\varepsilon \\, b + \\text{argument}$. \n",
        "\n",
        "__radd__ : adds the dual number to the argument _argument_, i.e. $\\text{argument} + a + \\varepsilon \\, b$.\n",
        "\n",
        "__sub__ : subtracts an argument _argument_ from the dual number. \n",
        "\n",
        "__rsub__ : subtracts the dual number from the argument _argument_.\n",
        "\n",
        "__mul__ : multiplies the dual number with the argument _argument_.\n",
        "\n",
        "__rmul__ : multiplies an argument _argument_ with the dual number. \n",
        "\n",
        "__truediv__ : divides the dual number by an argument _argument_.\n",
        "\n",
        "__rtruediv__ : divides the argument _argument_ by the dual number.\n",
        "\n",
        "__neg__ : returns the neagtive of the dual number $a + \\varepsilon b$, i.e. $-a - \\varepsilon b$.\n",
        "\n",
        "__pow__ : takes the _power_-th power of the dual number.\n"
      ]
    },
    {
      "cell_type": "code",
      "metadata": {
        "deletable": false,
        "editable": false,
        "nbgrader": {
          "cell_type": "code",
          "checksum": "37135d4ed22e3e3169591fee3a0eb7ba",
          "grade": false,
          "grade_id": "cell-89f1b07cb349ddf3",
          "locked": true,
          "schema_version": 3,
          "solution": false,
          "task": false
        },
        "id": "cKykcswZBwMt"
      },
      "source": [
        "import numpy as np"
      ],
      "execution_count": null,
      "outputs": []
    },
    {
      "cell_type": "code",
      "metadata": {
        "deletable": false,
        "nbgrader": {
          "cell_type": "code",
          "checksum": "f792fa6b7e39903d26a495ad84ae4883",
          "grade": false,
          "grade_id": "cell-1f61758eb76b473d",
          "locked": false,
          "schema_version": 3,
          "solution": true,
          "task": false
        },
        "id": "yoAINltGBwMy"
      },
      "source": [
        "class Dual:\n",
        "    \n",
        "    def __init__(self, real, dual):\n",
        "        '''\n",
        "        real: real number\n",
        "        dual: dict (key=name_index and value=value)\n",
        "        '''\n",
        "        self.real = real\n",
        "        self.dual = dual\n",
        "        \n",
        "    def __add__(self, argument):\n",
        "        if isinstance(argument, Dual):\n",
        "            real = self.real + argument.real\n",
        "            dual = {}\n",
        "            for key in self.dual:\n",
        "                dual[key] = self.dual[key]\n",
        "            for key in argument.dual:\n",
        "                if key in dual:\n",
        "                    dual[key] += argument.dual[key]\n",
        "                else:\n",
        "                    dual[key] = argument.dual[key]    \n",
        "            return Dual(real, dual)\n",
        "        else:\n",
        "            return Dual(self.real + argument, self.dual)\n",
        "        \n",
        "    __radd__ = __add__\n",
        "    \n",
        "    def __sub__(self, argument):\n",
        "        if isinstance(argument, Dual):\n",
        "            real = self.real - argument.real\n",
        "            dual = {}\n",
        "            for key in self.dual:\n",
        "                dual[key] = self.dual[key]\n",
        "            for key in argument.dual:\n",
        "                if key in dual:\n",
        "                    dual[key] -= argument.dual[key]\n",
        "                else:\n",
        "                    dual[key] = -argument.dual[key]    \n",
        "            return Dual(real, dual)\n",
        "        else:\n",
        "            return Dual(self.real - argument, self.dual)\n",
        "        \n",
        "    def __rsub__(self, argument):\n",
        "        if isinstance(argument, Dual):\n",
        "            real = -self.real + argument.real\n",
        "            dual = {}\n",
        "            for key in argument.dual:\n",
        "                dual[key] = argument.dual[key]\n",
        "            for key in self.dual:\n",
        "                if key in dual:\n",
        "                    dual[key] -= self.dual[key]\n",
        "                else:\n",
        "                    dual[key] = -self.dual[key]    \n",
        "            return Dual(real, dual)\n",
        "        else:\n",
        "            return Dual(-self.real + argument, self.dual)\n",
        "    \n",
        "    def __mul__(self, argument):\n",
        "        if isinstance(argument, Dual):\n",
        "            real = self.real * argument.real\n",
        "            dual = {}\n",
        "            for key in self.dual:\n",
        "                dual[key] = self.dual[key] * argument.real\n",
        "            for key in argument.dual:\n",
        "                if key in dual:\n",
        "                    dual[key] += argument.dual[key] * self.real\n",
        "                else:\n",
        "                    dual[key] = argument.dual[key] * self.real\n",
        "            return Dual(real, dual)\n",
        "        else:\n",
        "            dual = {}\n",
        "            for key in self.dual:\n",
        "                dual[key] = self.dual[key] * argument\n",
        "            return Dual(self.real * argument, dual)\n",
        "        \n",
        "    __rmul__ = __mul__\n",
        "  \n",
        "    def __truediv__(self,argument):\n",
        "        if isinstance(argument, Dual):\n",
        "            x = argument.real\n",
        "            new_arg = self.div_neg(argument)\n",
        "            num = Dual(self.real, self.dual)\n",
        "            num_modified = num*new_arg\n",
        "            dual = {}\n",
        "            for key in num_modified.dual:\n",
        "                dual[key] = num_modified.dual[key] / (x*x)\n",
        "            return Dual(num_modified.real / (x*x), dual)\n",
        "        else:\n",
        "            dual = {}\n",
        "            for key in self.dual:\n",
        "                dual[key] = self.dual[key] / argument\n",
        "            return Dual(self.real / argument, dual)\n",
        "\n",
        "    def __rtruediv__(self,argument):\n",
        "        x = self.real\n",
        "        den = Dual(self.real, self.dual)\n",
        "        new_arg = self.div_neg(den)\n",
        "        num_modified = argument*new_arg\n",
        "        dual = {}\n",
        "        for key in num_modified.dual:\n",
        "            dual[key] = num_modified.dual[key] / (x*x)\n",
        "        return Dual(num_modified.real / (x*x), dual)\n",
        "        \n",
        "    def __pow__(self, power):\n",
        "        a = self.real\n",
        "        dual = {}\n",
        "        for key in self.dual:\n",
        "            dual[key] = power*self.dual[key]*(a**(power-1))\n",
        "        return Dual(a**power,dual)\n",
        "    \n",
        "    def __neg__(self):\n",
        "        dual = {}\n",
        "        for key in self.dual:\n",
        "            dual[key] = self.dual[key]*(-1)\n",
        "        return Dual(-self.real,dual)\n",
        "\n",
        "    def div_neg(self, argument):\n",
        "        dual = {}\n",
        "        for key in argument.dual:\n",
        "            dual[key] = argument.dual[key]*(-1)\n",
        "        return Dual(argument.real,dual)\n",
        "    \n",
        "    def __str__(self):\n",
        "        s = 'f = ' + str(round(self.real,6)) + '\\n'\n",
        "        for key in self.dual:\n",
        "            s += 'f' + key + ' = ' + str(round(self.dual[key],6)) + '\\n'\n",
        "        return s"
      ],
      "execution_count": null,
      "outputs": []
    },
    {
      "cell_type": "markdown",
      "metadata": {
        "id": "MoiYtc3BCV5B"
      },
      "source": [
        "Next, we implement the following functions that are acting on dual numbers of the form $a + \\varepsilon \\, b$:\n",
        "    \n",
        "**log** : $\\log(a + \\varepsilon \\, b)$\n",
        "\n",
        "**exp** : $\\exp(a + \\varepsilon \\, b)$\n",
        "\n",
        "**sin** : $\\sin(a + \\varepsilon \\, b)$\n",
        "\n",
        "**cos** : $\\cos(a + \\varepsilon \\, b)$\n",
        "\n",
        "**sigmoid** : $\\frac{1}{1 + \\exp(-(a + \\varepsilon \\, b))}$"
      ]
    },
    {
      "cell_type": "code",
      "metadata": {
        "id": "ptQDp2s6CMov"
      },
      "source": [
        "def log_d(dual_number):\n",
        "    dual = {}\n",
        "    a = dual_number.real\n",
        "    sa = np.log(a)\n",
        "    for key in dual_number.dual:\n",
        "        dual[key] = dual_number.dual[key]/a\n",
        "    return Dual(sa, dual)\n",
        "\n",
        "def exp_d(dual_number):\n",
        "    dual = {}\n",
        "    a = dual_number.real\n",
        "    sa = np.exp(a)\n",
        "    for key in dual_number.dual:\n",
        "        dual[key] = dual_number.dual[key]*sa\n",
        "    return Dual(sa, dual)\n",
        "\n",
        "def sin_d(dual_number):\n",
        "    dual = {}\n",
        "    a = dual_number.real\n",
        "    sa = np.sin(a)\n",
        "    for key in dual_number.dual:\n",
        "        dual[key] = dual_number.dual[key]*np.cos(a)\n",
        "    return Dual(sa, dual)\n",
        "\n",
        "def cos_d(dual_number):\n",
        "    dual = {}\n",
        "    a = dual_number.real\n",
        "    sa = np.cos(a)\n",
        "    for key in dual_number.dual:\n",
        "        dual[key] = -np.sin(a)*dual_number.dual[key]\n",
        "    return Dual(sa, dual)\n",
        "    \n",
        "def sigmoid_d(dual_number):\n",
        "    dual = {}\n",
        "    a = dual_number.real\n",
        "    sa = 1 / (1 + np.exp(-a))\n",
        "    for key in dual_number.dual:\n",
        "        dual[key] = dual_number.dual[key]*sa*(1-sa)\n",
        "    return Dual(sa, dual)"
      ],
      "execution_count": null,
      "outputs": []
    },
    {
      "cell_type": "markdown",
      "metadata": {
        "id": "cy7qbP81cfhM"
      },
      "source": [
        "## Example-1"
      ]
    },
    {
      "cell_type": "markdown",
      "metadata": {
        "id": "9acTFiDvcfhN"
      },
      "source": [
        "$$\n",
        "f(x,y,z) = x^3 - 2x^2y^2 + y^3\n",
        "$$\n",
        "<br>\n",
        "$$\n",
        "f_x = \\frac{\\partial f}{\\partial \\:x} = 3x^2 - 4xy^2\n",
        "$$\n",
        "<br>\n",
        "$$\n",
        "f_y = \\frac{\\partial f}{\\partial \\:y} = 3y^2 - 4x^2y\n",
        "$$\n",
        "\n",
        "At $x=1$ and $y=2$,\n",
        "\n",
        "$f = 1$, $f_x = -13$, $f_y = 4$"
      ]
    },
    {
      "cell_type": "code",
      "metadata": {
        "colab": {
          "base_uri": "https://localhost:8080/"
        },
        "id": "u2hIy_8xhZuF",
        "outputId": "0e9e7ac2-1959-4c83-e0ee-9ab671d7a3f8"
      },
      "source": [
        "x = Dual(real=1, dual={'x': 1})\n",
        "y = Dual(real=2, dual={'y': 1})\n",
        "\n",
        "f = (x**3) - 2*(x**2)*(y**2) + (y**3)\n",
        "print(f)"
      ],
      "execution_count": null,
      "outputs": [
        {
          "output_type": "stream",
          "text": [
            "f = 1\n",
            "fx = -13\n",
            "fy = 4\n",
            "\n"
          ],
          "name": "stdout"
        }
      ]
    },
    {
      "cell_type": "markdown",
      "metadata": {
        "id": "cRNeLYXtcca2"
      },
      "source": [
        "## Example-2"
      ]
    },
    {
      "cell_type": "markdown",
      "metadata": {
        "id": "CrlcXKXUccbH"
      },
      "source": [
        "$$\n",
        "f(x,y,z) = \\frac{81x}{x+y^2}\n",
        "$$\n",
        "<br>\n",
        "$$\n",
        "f_x = \\frac{\\partial f}{\\partial \\:x} = \\frac{81y^2}{\\left(x+y^2\\right)^2}\n",
        "$$\n",
        "<br>\n",
        "$$\n",
        "f_y = \\frac{\\partial f}{\\partial \\:y} = -\\frac{162xy}{\\left(x+y^2\\right)^2}\n",
        "$$\n",
        "\n",
        "At $x=2$ and $y=4$,\n",
        "\n",
        "$f = 9$, $f_x = 4$, $f_y = -4$"
      ]
    },
    {
      "cell_type": "code",
      "metadata": {
        "colab": {
          "base_uri": "https://localhost:8080/"
        },
        "id": "vAkPPn8x_oKE",
        "outputId": "b491f233-7278-420d-8680-a9058c28a4a8"
      },
      "source": [
        "x = Dual(2, {'x': 1})\n",
        "y = Dual(4, {'y': 1})\n",
        "f = 81*x / (x+(y**2))\n",
        "print(f)"
      ],
      "execution_count": null,
      "outputs": [
        {
          "output_type": "stream",
          "text": [
            "f = 9.0\n",
            "fx = 4.0\n",
            "fy = -4.0\n",
            "\n"
          ],
          "name": "stdout"
        }
      ]
    },
    {
      "cell_type": "markdown",
      "metadata": {
        "id": "DQhbvv8jaF-3"
      },
      "source": [
        "## Example-3"
      ]
    },
    {
      "cell_type": "markdown",
      "metadata": {
        "id": "A8bSVCMEZfP_"
      },
      "source": [
        "$$\n",
        "f(x,y,z) = \\frac{36xz}{x+z^2+y^2}\n",
        "$$\n",
        "<br>\n",
        "$$\n",
        "f_x = \\frac{\\partial f}{\\partial \\:x} = \\frac{36z\\left(z^2+y^2\\right)}{\\left(x+z^2+y^2\\right)^2}\n",
        "$$\n",
        "<br>\n",
        "$$\n",
        "f_y = \\frac{\\partial f}{\\partial \\:y} = -\\frac{72xzy}{\\left(x+z^2+y^2\\right)^2}\n",
        "$$\n",
        "<br>\n",
        "$$\n",
        "f_z = \\frac{\\partial f}{\\partial \\:z} = \\frac{36x\\left(-z^2+x+y^2\\right)}{\\left(x+z^2+y^2\\right)^2}\n",
        "$$\n",
        "\n",
        "At $x=1, y=2$ and $z=1$,\n",
        "\n",
        "$f = 6$, $f_x = 5$, $f_y = -4$ and $f_z = 4$"
      ]
    },
    {
      "cell_type": "code",
      "metadata": {
        "colab": {
          "base_uri": "https://localhost:8080/"
        },
        "id": "HGBujoz9Yhja",
        "outputId": "cae3ac02-be21-46af-a591-e6003c623bd6"
      },
      "source": [
        "x = Dual(1, {'x': 1})\n",
        "y = Dual(2, {'y': 1})\n",
        "z = Dual(1, {'z': 1})\n",
        "f = 36*x*z / (x+(z**2)+(y**2))\n",
        "print(f)"
      ],
      "execution_count": null,
      "outputs": [
        {
          "output_type": "stream",
          "text": [
            "f = 6.0\n",
            "fx = 5.0\n",
            "fz = 4.0\n",
            "fy = -4.0\n",
            "\n"
          ],
          "name": "stdout"
        }
      ]
    },
    {
      "cell_type": "markdown",
      "metadata": {
        "id": "zNQSn85CfcPH"
      },
      "source": [
        "## Example-4"
      ]
    },
    {
      "cell_type": "markdown",
      "metadata": {
        "id": "MYJc1m1ZfcPc"
      },
      "source": [
        "$$\n",
        "f(x,y,z) = \\frac{\\sin(x)}{\\cos(y)+x^2}\n",
        "$$\n",
        "<br>\n",
        "$$\n",
        "f_x = \\frac{\\partial f}{\\partial \\:x} = \\frac{\\cos \\left(x\\right)\\left(\\cos \\left(y\\right)+x^2\\right)-2x\\sin \\left(x\\right)}{\\left(\\cos \\left(y\\right)+x^2\\right)^2}\n",
        "$$\n",
        "<br>\n",
        "$$\n",
        "f_y = \\frac{\\partial f}{\\partial \\:y} = \\frac{\\sin \\left(x\\right)\\sin \\left(y\\right)}{\\left(\\cos \\left(y\\right)+x^2\\right)^2}\n",
        "$$\n",
        "\n",
        "At $x=\\pi$ and $y=\\pi$,\n",
        "\n",
        "$f = 0$, $f_y = 0$, <br><br>\n",
        "$f_x = \\frac{1}{1-\\pi^2}= -0.112744 $"
      ]
    },
    {
      "cell_type": "code",
      "metadata": {
        "colab": {
          "base_uri": "https://localhost:8080/"
        },
        "id": "5Hwq-0v9D95M",
        "outputId": "c2834e0e-b30a-4a31-e721-423c9b13499f"
      },
      "source": [
        "x = Dual(np.pi, {'x': 1})\n",
        "y = Dual(np.pi, {'y': 1})\n",
        "\n",
        "f = sin_d(x)/(cos_d(y)+(x**2))\n",
        "print(f)"
      ],
      "execution_count": null,
      "outputs": [
        {
          "output_type": "stream",
          "text": [
            "f = 0.0\n",
            "fx = -0.112745\n",
            "fy = 0.0\n",
            "\n"
          ],
          "name": "stdout"
        }
      ]
    }
  ]
}